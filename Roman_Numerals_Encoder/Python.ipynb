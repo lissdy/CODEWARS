{
 "cells": [
  {
   "cell_type": "markdown",
   "metadata": {},
   "source": [
    "https://www.codewars.com/kata/roman-numerals-encoder/train/python\n",
    "\n",
    "Create a function taking a positive integer as its parameter and returning a string containing the Roman Numeral representation of that integer.\n",
    "\n",
    "Modern Roman numerals are written by expressing each digit separately starting with the left most digit and skipping any digit with a value of zero. In Roman numerals 1990 is rendered: 1000=M, 900=CM, 90=XC; resulting in MCMXC. 2008 is written as 2000=MM, 8=VIII; or MMVIII. 1666 uses each Roman symbol in descending order: MDCLXVI.\n",
    "\n",
    "### Example:\n",
    "```\n",
    "solution(1000) # should return 'M'\n",
    "```\n",
    "### Help:\n",
    "```\n",
    "Symbol    Value\n",
    "I          1\n",
    "V          5\n",
    "X          10\n",
    "L          50\n",
    "C          100\n",
    "D          500\n",
    "M          1,000\n",
    "```\n",
    "Remember that there can't be more than 3 identical symbols in a row.\n",
    "\n",
    "More about roman numerals - http://en.wikipedia.org/wiki/Roman_numerals"
   ]
  },
  {
   "cell_type": "code",
   "execution_count": null,
   "metadata": {},
   "outputs": [],
   "source": [
    "def solution(n):\n",
    "    dic = {'M':1000,'CM':900,'D':500,'CD':400,'C':100,'XC':90,'L':50,'XL':40,'X':10,'IX':9,'V':5,'IV':4,'I':1}\n",
    "    return"
   ]
  }
 ],
 "metadata": {
  "kernelspec": {
   "display_name": "Python 3",
   "language": "python",
   "name": "python3"
  },
  "language_info": {
   "codemirror_mode": {
    "name": "ipython",
    "version": 3
   },
   "file_extension": ".py",
   "mimetype": "text/x-python",
   "name": "python",
   "nbconvert_exporter": "python",
   "pygments_lexer": "ipython3",
   "version": "3.6.4"
  }
 },
 "nbformat": 4,
 "nbformat_minor": 2
}
