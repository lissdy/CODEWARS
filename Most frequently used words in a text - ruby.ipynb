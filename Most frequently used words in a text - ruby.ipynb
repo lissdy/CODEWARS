{
 "cells": [
  {
   "cell_type": "markdown",
   "metadata": {},
   "source": [
    "Write a function that, given a string of text (possibly with punctuation and line-breaks), returns an array of the top-3 most occurring words, in descending order of the number of occurrences.\n",
    "\n",
    "## Assumptions:\n",
    "- A word is a string of letters (A to Z) optionally containing one or more apostrophes (') in ASCII. (No need to handle fancy punctuation.)\n",
    "- Matches should be case-insensitive, and the words in the result should be lowercased.\n",
    "- Ties may be broken arbitrarily.\n",
    "- If a text contains fewer than three unique words, then either the top-2 or top-1 words should be returned, or an empty array if a text contains no words.\n",
    "\n",
    "## Examples:\n",
    "```\n",
    "top_3_words(\"In a village of La Mancha, the name of which I have no desire to call to\n",
    "mind, there lived not long since one of those gentlemen that keep a lance\n",
    "in the lance-rack, an old buckler, a lean hack, and a greyhound for\n",
    "coursing. An olla of rather more beef than mutton, a salad on most\n",
    "nights, scraps on Saturdays, lentils on Fridays, and a pigeon or so extra\n",
    "on Sundays, made away with three-quarters of his income.\")\n",
    "# => [\"a\", \"of\", \"on\"]\n",
    "\n",
    "top_3_words(\"e e e e DDD ddd DdD: ddd ddd aa aA Aa, bb cc cC e e e\")\n",
    "# => [\"e\", \"ddd\", \"aa\"]\n",
    "\n",
    "top_3_words(\"  //wont won't won't\")\n",
    "# => [\"won't\", \"wont\"]\n",
    "```\n",
    "## Bonus points (not really, but just for fun):\n",
    "1. Avoid creating an array whose memory footprint is roughly as big as the input text.\n",
    "2. Avoid sorting the entire array of unique words.\n",
    "3. Do the above in idiomatic, readable Ruby."
   ]
  },
  {
   "cell_type": "code",
   "execution_count": 19,
   "metadata": {},
   "outputs": [
    {
     "data": {
      "text/plain": [
       ":top_3_words"
      ]
     },
     "execution_count": 19,
     "metadata": {},
     "output_type": "execute_result"
    }
   ],
   "source": [
    "def top_3_words(text)\n",
    "  text.downcase.scan(/[\\w']+/).each_with_object(Hash.new(0)){|w,h| h[w]+=1}.sort_by(&:last).reverse.to_h.keys.delete_if{|x| x==\"'\"}[0..2]\n",
    "end"
   ]
  },
  {
   "cell_type": "code",
   "execution_count": 20,
   "metadata": {},
   "outputs": [
    {
     "data": {
      "text/plain": [
       "[\"a\", \"of\", \"on\"]"
      ]
     },
     "execution_count": 20,
     "metadata": {},
     "output_type": "execute_result"
    }
   ],
   "source": [
    "top_3_words(\"In a village of La Mancha, the name of which I have no desire to call to\n",
    "mind, there lived not long since one of those gentlemen that keep a lance\n",
    "in the lance-rack, an old buckler, a lean hack, and a greyhound for\n",
    "coursing. An olla of rather more beef than mutton, a salad on most\n",
    "nights, scraps on Saturdays, lentils on Fridays, and a pigeon or so extra\n",
    "on Sundays, made away with three-quarters of his income.\")"
   ]
  },
  {
   "cell_type": "code",
   "execution_count": 21,
   "metadata": {},
   "outputs": [
    {
     "data": {
      "text/plain": [
       "[]"
      ]
     },
     "execution_count": 21,
     "metadata": {},
     "output_type": "execute_result"
    }
   ],
   "source": [
    "top_3_words(\"  '  \")"
   ]
  },
  {
   "cell_type": "code",
   "execution_count": null,
   "metadata": {},
   "outputs": [],
   "source": []
  },
  {
   "cell_type": "code",
   "execution_count": null,
   "metadata": {},
   "outputs": [],
   "source": []
  }
 ],
 "metadata": {
  "kernelspec": {
   "display_name": "Ruby 2.4.1",
   "language": "ruby",
   "name": "ruby"
  },
  "language_info": {
   "file_extension": ".rb",
   "mimetype": "application/x-ruby",
   "name": "ruby",
   "version": "2.4.1"
  }
 },
 "nbformat": 4,
 "nbformat_minor": 2
}
