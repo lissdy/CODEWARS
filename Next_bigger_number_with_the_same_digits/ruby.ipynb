{
 "cells": [
  {
   "cell_type": "markdown",
   "metadata": {},
   "source": [
    "You have to create a function that takes a positive integer number and returns the next bigger number formed by the same digits:\n",
    "\n",
    "```\n",
    "next_bigger(12)==21\n",
    "next_bigger(513)==531\n",
    "next_bigger(2017)==2071\n",
    "```\n",
    "If no bigger number can be composed using those digits, return -1:\n",
    "\n",
    "```\n",
    "next_bigger(9)==-1\n",
    "next_bigger(111)==-1\n",
    "next_bigger(531)==-1\n",
    "```"
   ]
  },
  {
   "cell_type": "code",
   "execution_count": 1,
   "metadata": {},
   "outputs": [
    {
     "data": {
      "text/plain": [
       ":maxed"
      ]
     },
     "execution_count": 1,
     "metadata": {},
     "output_type": "execute_result"
    }
   ],
   "source": [
    "# Best practice\n",
    "def next_bigger n\n",
    "  max = maxed n\n",
    "  (n+1..max).each { |i| return i if max == maxed(i) }\n",
    "  -1\n",
    "end\n",
    "\n",
    "def maxed n\n",
    "  n.to_s.split('').sort.reverse.join.to_i\n",
    "end"
   ]
  },
  {
   "cell_type": "code",
   "execution_count": 2,
   "metadata": {},
   "outputs": [
    {
     "data": {
      "text/plain": [
       "2081"
      ]
     },
     "execution_count": 2,
     "metadata": {},
     "output_type": "execute_result"
    }
   ],
   "source": [
    "next_bigger(2018)"
   ]
  }
 ],
 "metadata": {
  "kernelspec": {
   "display_name": "Ruby 2.4.1",
   "language": "ruby",
   "name": "ruby"
  },
  "language_info": {
   "file_extension": ".rb",
   "mimetype": "application/x-ruby",
   "name": "ruby",
   "version": "2.4.1"
  }
 },
 "nbformat": 4,
 "nbformat_minor": 2
}
